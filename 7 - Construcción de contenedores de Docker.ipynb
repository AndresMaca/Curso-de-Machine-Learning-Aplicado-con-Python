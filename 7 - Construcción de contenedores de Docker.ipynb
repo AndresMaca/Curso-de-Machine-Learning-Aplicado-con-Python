{
 "cells": [
  {
   "cell_type": "markdown",
   "metadata": {},
   "source": [
    "# Curso de Machine Learning Aplicado con Python"
   ]
  },
  {
   "cell_type": "markdown",
   "metadata": {},
   "source": [
    "![Machine-Learning](assets/Machine-Learning.jpg)"
   ]
  },
  {
   "cell_type": "markdown",
   "metadata": {},
   "source": [
    "# Construcción de contenedores de Docker"
   ]
  },
  {
   "cell_type": "markdown",
   "metadata": {},
   "source": [
    "##### Datos importantes:\n",
    "\n",
    "* Los contenedores de Docker son similares a una ballena virtual y se pueden crear de forma automática con Docker File, que va a crear una imagen y desde esa imagen se generan todos los contenedores que necesitemos.\n",
    "* ararads - base es un ambiente típico, muy fácil de usar de librerías de PyData.\n",
    "* Antes de instanciar un contenedor hay que asegurarnos de crear un directorio que se llame vol, esto dentro de la carpeta. Esto es importante porque cada vez que se requiera disponibilizar archivos en el contenedor podemos solo hacer un drag and drop y llevarlos a vol.\n"
   ]
  },
  {
   "cell_type": "markdown",
   "metadata": {},
   "source": [
    "\n",
    "# Construir las imagenes\n",
    "\n",
    "Antes de poder crear un contenedor docker en el cual trabajaremos debemos construir una imagen. Una imagen corresponde de cierta forma a la \"receta\" desde la cual se instanciara nuestro contenedor.\n",
    "\n",
    "* Descargar Dockerfiles (Github)\n",
    "\n",
    "Desde tu folder de trabajo (~/platzi-ml/):\n",
    "\n",
    "    [~/platzi-ml] $ git clone https://github.com/JuanPabloMF/arara-docker-stacks.git\n",
    "\n",
    "* Crear Imagenes\n",
    "\n",
    "    [~/platzi-ml] $ cd arara-docker-stacks/ararads-base\n",
    "    \n",
    "    [~/platzi-ml/arara-docker-stacks/ararads-base] $ sudo docker build -t ararads-base:1.0 .\n",
    "    \n",
    "    [~/platzi-ml/arara-docker-stacks/ararads-base] $ cd ../ararads-tf-cpu\n",
    "    \n",
    "    [~/platzi-ml/arara-docker-stacks/ararads-tf-cpu] $ sudo docker build -t ararads-tf-cpu:1.0 .\n",
    "\n"
   ]
  },
  {
   "cell_type": "markdown",
   "metadata": {},
   "source": [
    "\n",
    "## Instanciar el contenedor\n",
    "\n",
    "* Crear folder que sera montado en tus contenedores Docker\n",
    "\n",
    "    [~/platzi-ml] $ mkdir vol\n",
    "\n",
    "Importante: En este folder es donde deberas descargar/copiar tus datasets para que puedas verlos en el contenedor que estes trabajando.\n",
    "\n",
    "    $ sudo docker run -ti --name platzi-ml -v ~/platzi-ml/vol:/home/juanpablo/work/vol -p 9000:8888 ararads-tf-cpu:1.0 start-notebook.sh --NotebookApp.token=''\n",
    "\n",
    "Con esto solo quedaria acceder desde chrome a http://localhost:9000/ y estamos listos para trabajar!\n",
    "\n",
    "Notas\n",
    "-v es una opcion que permite conectar un archivo que tengas en tu computador con un archivo que estara en tu contenedor. Esto es bueno para poder ingresar datos facilmente a tu contenedor, o extraerlos de forma ordenada\n",
    "-p te permite exponer un puerto interno del computador a traves de un puerto de tu maquina local. En terminos simples por aqui es donde accederas a tu jupyter.\n",
    "Las imagenes que construimos inicializan automaticamente un Jupyter que queda esperando en su puerto.\n"
   ]
  },
  {
   "cell_type": "code",
   "execution_count": null,
   "metadata": {
    "collapsed": true
   },
   "outputs": [],
   "source": []
  }
 ],
 "metadata": {
  "kernelspec": {
   "display_name": "Python 3",
   "language": "python",
   "name": "python3"
  },
  "language_info": {
   "codemirror_mode": {
    "name": "ipython",
    "version": 3
   },
   "file_extension": ".py",
   "mimetype": "text/x-python",
   "name": "python",
   "nbconvert_exporter": "python",
   "pygments_lexer": "ipython3",
   "version": "3.6.2"
  }
 },
 "nbformat": 4,
 "nbformat_minor": 2
}
