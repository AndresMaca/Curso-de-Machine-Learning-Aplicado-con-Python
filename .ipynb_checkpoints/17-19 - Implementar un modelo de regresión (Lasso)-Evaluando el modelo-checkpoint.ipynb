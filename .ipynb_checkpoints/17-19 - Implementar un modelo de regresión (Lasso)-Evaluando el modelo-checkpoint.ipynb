{
 "cells": [
  {
   "cell_type": "markdown",
   "metadata": {},
   "source": [
    "# Curso de Machine Learning Aplicado con Python"
   ]
  },
  {
   "cell_type": "markdown",
   "metadata": {},
   "source": [
    "![Machine-Learning](assets/Machine-Learning.jpg)"
   ]
  },
  {
   "cell_type": "markdown",
   "metadata": {},
   "source": [
    "## Implementar un modelo de regresión (Lasso)"
   ]
  },
  {
   "cell_type": "code",
   "execution_count": 1,
   "metadata": {},
   "outputs": [
    {
     "name": "stdout",
     "output_type": "stream",
     "text": [
      "\n",
      "Version Numpy:     \t1.13.1 \n",
      "Version Pandas:    \t0.20.3 \n",
      "Version Matplotlib:\t2.0.2\n",
      "Version seaborn:   \t0.8.0\n"
     ]
    }
   ],
   "source": [
    "# importamos las librerias\n",
    "import numpy as np\n",
    "import pandas as pd\n",
    "import matplotlib\n",
    "import matplotlib.pyplot as plt\n",
    "import seaborn as sb\n",
    "print(\"\"\"\n",
    "Version Numpy:     \\t{} \n",
    "Version Pandas:    \\t{} \n",
    "Version Matplotlib:\\t{}\n",
    "Version seaborn:   \\t{}\"\"\".format(np.__version__,pd.__version__,matplotlib.__version__,sb.__version__))\n"
   ]
  },
  {
   "cell_type": "markdown",
   "metadata": {},
   "source": [
    "### Implementemos un modelo simple de regresión primero"
   ]
  },
  {
   "cell_type": "code",
   "execution_count": 2,
   "metadata": {
    "collapsed": true
   },
   "outputs": [],
   "source": [
    "#Exportamos el dataset ya limpio\n",
    "X = pd.read_csv('X.csv')"
   ]
  },
  {
   "cell_type": "code",
   "execution_count": 3,
   "metadata": {},
   "outputs": [
    {
     "data": {
      "text/html": [
       "<div>\n",
       "<style>\n",
       "    .dataframe thead tr:only-child th {\n",
       "        text-align: right;\n",
       "    }\n",
       "\n",
       "    .dataframe thead th {\n",
       "        text-align: left;\n",
       "    }\n",
       "\n",
       "    .dataframe tbody tr th {\n",
       "        vertical-align: top;\n",
       "    }\n",
       "</style>\n",
       "<table border=\"1\" class=\"dataframe\">\n",
       "  <thead>\n",
       "    <tr style=\"text-align: right;\">\n",
       "      <th></th>\n",
       "      <th>Production Budget</th>\n",
       "      <th>Worldwide Gross</th>\n",
       "      <th>num_critic_for_reviews</th>\n",
       "      <th>duration</th>\n",
       "      <th>director_facebook_likes</th>\n",
       "      <th>actor_3_facebook_likes</th>\n",
       "      <th>actor_1_facebook_likes</th>\n",
       "      <th>gross</th>\n",
       "      <th>facenumber_in_poster</th>\n",
       "      <th>num_user_for_reviews</th>\n",
       "      <th>budget</th>\n",
       "      <th>title_year</th>\n",
       "      <th>actor_2_facebook_likes</th>\n",
       "      <th>aspect_ratio</th>\n",
       "    </tr>\n",
       "  </thead>\n",
       "  <tbody>\n",
       "    <tr>\n",
       "      <th>0</th>\n",
       "      <td>425000000.0</td>\n",
       "      <td>2.783919e+09</td>\n",
       "      <td>7.230000e+02</td>\n",
       "      <td>1.780000e+02</td>\n",
       "      <td>0.000000e+00</td>\n",
       "      <td>8.550000e+02</td>\n",
       "      <td>1.000000e+03</td>\n",
       "      <td>7.605058e+08</td>\n",
       "      <td>0.000000e+00</td>\n",
       "      <td>3.054000e+03</td>\n",
       "      <td>2.370000e+08</td>\n",
       "      <td>2.009000e+03</td>\n",
       "      <td>9.360000e+02</td>\n",
       "      <td>1.780000e+02</td>\n",
       "    </tr>\n",
       "    <tr>\n",
       "      <th>1</th>\n",
       "      <td>410600000.0</td>\n",
       "      <td>1.045664e+09</td>\n",
       "      <td>4.480000e+02</td>\n",
       "      <td>1.360000e+02</td>\n",
       "      <td>2.520000e+02</td>\n",
       "      <td>1.000000e+03</td>\n",
       "      <td>4.000000e+04</td>\n",
       "      <td>2.410639e+08</td>\n",
       "      <td>4.000000e+00</td>\n",
       "      <td>4.840000e+02</td>\n",
       "      <td>2.500000e+08</td>\n",
       "      <td>2.011000e+03</td>\n",
       "      <td>1.100000e+04</td>\n",
       "      <td>2.350000e+02</td>\n",
       "    </tr>\n",
       "    <tr>\n",
       "      <th>2</th>\n",
       "      <td>330600000.0</td>\n",
       "      <td>1.408219e+09</td>\n",
       "      <td>6.350000e+02</td>\n",
       "      <td>1.410000e+02</td>\n",
       "      <td>0.000000e+00</td>\n",
       "      <td>1.900000e+04</td>\n",
       "      <td>2.600000e+04</td>\n",
       "      <td>4.589916e+08</td>\n",
       "      <td>4.000000e+00</td>\n",
       "      <td>1.117000e+03</td>\n",
       "      <td>2.500000e+08</td>\n",
       "      <td>2.015000e+03</td>\n",
       "      <td>2.100000e+04</td>\n",
       "      <td>2.350000e+02</td>\n",
       "    </tr>\n",
       "    <tr>\n",
       "      <th>3</th>\n",
       "      <td>306000000.0</td>\n",
       "      <td>2.058662e+09</td>\n",
       "      <td>1.182331e+09</td>\n",
       "      <td>1.182331e+09</td>\n",
       "      <td>1.182331e+09</td>\n",
       "      <td>1.182331e+09</td>\n",
       "      <td>1.182331e+09</td>\n",
       "      <td>1.182331e+09</td>\n",
       "      <td>1.182331e+09</td>\n",
       "      <td>1.182331e+09</td>\n",
       "      <td>1.182331e+09</td>\n",
       "      <td>1.182331e+09</td>\n",
       "      <td>1.182331e+09</td>\n",
       "      <td>1.182331e+09</td>\n",
       "    </tr>\n",
       "    <tr>\n",
       "      <th>4</th>\n",
       "      <td>300000000.0</td>\n",
       "      <td>9.634204e+08</td>\n",
       "      <td>6.317102e+08</td>\n",
       "      <td>6.317102e+08</td>\n",
       "      <td>6.317102e+08</td>\n",
       "      <td>6.317102e+08</td>\n",
       "      <td>6.317102e+08</td>\n",
       "      <td>6.317102e+08</td>\n",
       "      <td>6.317102e+08</td>\n",
       "      <td>6.317102e+08</td>\n",
       "      <td>6.317102e+08</td>\n",
       "      <td>6.317102e+08</td>\n",
       "      <td>6.317102e+08</td>\n",
       "      <td>6.317102e+08</td>\n",
       "    </tr>\n",
       "  </tbody>\n",
       "</table>\n",
       "</div>"
      ],
      "text/plain": [
       "   Production Budget  Worldwide Gross  num_critic_for_reviews      duration  \\\n",
       "0        425000000.0     2.783919e+09            7.230000e+02  1.780000e+02   \n",
       "1        410600000.0     1.045664e+09            4.480000e+02  1.360000e+02   \n",
       "2        330600000.0     1.408219e+09            6.350000e+02  1.410000e+02   \n",
       "3        306000000.0     2.058662e+09            1.182331e+09  1.182331e+09   \n",
       "4        300000000.0     9.634204e+08            6.317102e+08  6.317102e+08   \n",
       "\n",
       "   director_facebook_likes  actor_3_facebook_likes  actor_1_facebook_likes  \\\n",
       "0             0.000000e+00            8.550000e+02            1.000000e+03   \n",
       "1             2.520000e+02            1.000000e+03            4.000000e+04   \n",
       "2             0.000000e+00            1.900000e+04            2.600000e+04   \n",
       "3             1.182331e+09            1.182331e+09            1.182331e+09   \n",
       "4             6.317102e+08            6.317102e+08            6.317102e+08   \n",
       "\n",
       "          gross  facenumber_in_poster  num_user_for_reviews        budget  \\\n",
       "0  7.605058e+08          0.000000e+00          3.054000e+03  2.370000e+08   \n",
       "1  2.410639e+08          4.000000e+00          4.840000e+02  2.500000e+08   \n",
       "2  4.589916e+08          4.000000e+00          1.117000e+03  2.500000e+08   \n",
       "3  1.182331e+09          1.182331e+09          1.182331e+09  1.182331e+09   \n",
       "4  6.317102e+08          6.317102e+08          6.317102e+08  6.317102e+08   \n",
       "\n",
       "     title_year  actor_2_facebook_likes  aspect_ratio  \n",
       "0  2.009000e+03            9.360000e+02  1.780000e+02  \n",
       "1  2.011000e+03            1.100000e+04  2.350000e+02  \n",
       "2  2.015000e+03            2.100000e+04  2.350000e+02  \n",
       "3  1.182331e+09            1.182331e+09  1.182331e+09  \n",
       "4  6.317102e+08            6.317102e+08  6.317102e+08  "
      ]
     },
     "execution_count": 3,
     "metadata": {},
     "output_type": "execute_result"
    }
   ],
   "source": [
    "X.head()"
   ]
  },
  {
   "cell_type": "code",
   "execution_count": 4,
   "metadata": {
    "collapsed": true
   },
   "outputs": [],
   "source": [
    "# separamos la columna de Worldwide Gross ya que es nuestra variable objetivo, la sacamos del data  de X y la pasare al vector Y\n",
    "y = X['Worldwide Gross']"
   ]
  },
  {
   "cell_type": "code",
   "execution_count": 5,
   "metadata": {
    "collapsed": true
   },
   "outputs": [],
   "source": [
    "#Eliminamos la columna del set de X\n",
    "X = X.drop('Worldwide Gross', axis=1)"
   ]
  },
  {
   "cell_type": "code",
   "execution_count": 6,
   "metadata": {
    "collapsed": true
   },
   "outputs": [],
   "source": [
    "#Ahora lo que hacemos es separar los datos\n",
    "from sklearn.model_selection import train_test_split\n",
    "#lo que haremos es que asignaremos un 40% para datos de test y el resto para entrenamiento\n",
    "X_train, X_test, y_train, y_test = train_test_split(X, y, test_size=0.4)"
   ]
  },
  {
   "cell_type": "code",
   "execution_count": 7,
   "metadata": {},
   "outputs": [
    {
     "name": "stdout",
     "output_type": "stream",
     "text": [
      "\n",
      "# de datos por col en X:       \t 5011\t100%\n",
      "# de datos por col en X_train: \t 3006\t59.9880263420475%\n",
      "# de datos por col en X_test:  \t 2005\t40.0119736579525%\n"
     ]
    }
   ],
   "source": [
    "# Comprobamos\n",
    "print(\"\"\"\n",
    "# de datos por col en X:       \\t {}\\t100%\n",
    "# de datos por col en X_train: \\t {}\\t{}%\n",
    "# de datos por col en X_test:  \\t {}\\t{}%\"\"\".format(len(X), len(X_train), (len(X_train)/len(X))*100, len(X_test), (len(X_test)/len(X))*100))"
   ]
  },
  {
   "cell_type": "markdown",
   "metadata": {},
   "source": [
    "**Entramos en materia de ML** *Ocuparemos una regresion `Lasso` que se encuentra en un modulo que se llama `linear_model`, en donde linear model es todo una familia de modelos de ML que incluye la regresión, la regresion logistica entre otros que son denominados modelos lineales*"
   ]
  },
  {
   "cell_type": "code",
   "execution_count": 8,
   "metadata": {
    "collapsed": true
   },
   "outputs": [],
   "source": [
    "from sklearn.linear_model import Lasso\n",
    "#Utilizaremos lasso de una manera sencilla, lo primero que hacemos es instanciarlo\n",
    "model = Lasso()"
   ]
  },
  {
   "cell_type": "code",
   "execution_count": 9,
   "metadata": {},
   "outputs": [
    {
     "name": "stderr",
     "output_type": "stream",
     "text": [
      "C:\\Users\\willa\\Anaconda3\\lib\\site-packages\\sklearn\\linear_model\\coordinate_descent.py:491: ConvergenceWarning: Objective did not converge. You might want to increase the number of iterations. Fitting data with very small alpha may cause precision problems.\n",
      "  ConvergenceWarning)\n"
     ]
    },
    {
     "data": {
      "text/plain": [
       "Lasso(alpha=1.0, copy_X=True, fit_intercept=True, max_iter=1000,\n",
       "   normalize=False, positive=False, precompute=False, random_state=None,\n",
       "   selection='cyclic', tol=0.0001, warm_start=False)"
      ]
     },
     "execution_count": 9,
     "metadata": {},
     "output_type": "execute_result"
    }
   ],
   "source": [
    "#Lo entrenamos\n",
    "model.fit(X_train,y_train)\n",
    "#Con esto basta para entrenar el modelo ._.\n",
    "# no preocuparse por la alerta que sale"
   ]
  },
  {
   "cell_type": "code",
   "execution_count": 10,
   "metadata": {
    "collapsed": true
   },
   "outputs": [],
   "source": [
    "# y ahora haremos las predicciones con el dataset de test\n",
    "predicted = model.predict(X_test)"
   ]
  },
  {
   "cell_type": "code",
   "execution_count": 11,
   "metadata": {},
   "outputs": [
    {
     "name": "stdout",
     "output_type": "stream",
     "text": [
      "Este vector cuenta con 2005 datos\n"
     ]
    },
    {
     "data": {
      "text/plain": [
       "array([  7.05316000e+06,   2.15819113e+08,  -1.44718022e+07, ...,\n",
       "        -1.57806509e+07,   5.30371107e+07,  -1.12833266e+07])"
      ]
     },
     "execution_count": 11,
     "metadata": {},
     "output_type": "execute_result"
    }
   ],
   "source": [
    "#Que tal se ven nuestras predicciones \n",
    "print(\"Este vector cuenta con\", predicted.shape[0], \"datos\")\n",
    "predicted"
   ]
  },
  {
   "cell_type": "code",
   "execution_count": 12,
   "metadata": {},
   "outputs": [
    {
     "data": {
      "image/png": "[encoded data removed]",
      "text/plain": [
       "<matplotlib.figure.Figure at 0x25d9454a940>"
      ]
     },
     "metadata": {},
     "output_type": "display_data"
    }
   ],
   "source": [
    "#veremos graficamente la comparacion de los resultados de predicted contra y_test\n",
    "%matplotlib inline\n",
    "\n",
    "plt.hist([predicted,y_test]);\n",
    "# en cuentas generales esta mas o menos bien por que son similares pero podemos hacer algo mejor\n",
    "# Que nos dice este histogram:\n",
    "# Que las peliculas con presupuesto con cifras menores a billon de dolares(exactamente entre 0.0 y el 0.25) \n",
    "# son 1750 peliculas aproximademente, y esto concuerda con nuestra prediccion"
   ]
  },
  {
   "cell_type": "code",
   "execution_count": 13,
   "metadata": {},
   "outputs": [
    {
     "data": {
      "image/png": "[encoded data removed]",
      "text/plain": [
       "<matplotlib.figure.Figure at 0x25d94b3e4a8>"
      ]
     },
     "metadata": {},
     "output_type": "display_data"
    }
   ],
   "source": [
    "#Otra forma de ver el histogram\n",
    "plt.hist([predicted,y_test],log=True);"
   ]
  },
  {
   "cell_type": "markdown",
   "metadata": {
    "collapsed": true
   },
   "source": [
    "# 19 - Evaluando el modelo"
   ]
  },
  {
   "cell_type": "markdown",
   "metadata": {},
   "source": [
    "Para evaluar la perfomance del modelo scikit-learn nos ofrece todo uan serie de herramientas:\n",
    "* Por un lado diferentes *metricas* que vienen en el modulo `sklearn.metrics`\n",
    "* Y por otro lado tambien en `sklearn.model_selection` nos ofrece funciones entre ellas para sacar *score* este modulo ocupa internamente el modulo de *mterics*"
   ]
  },
  {
   "cell_type": "markdown",
   "metadata": {},
   "source": [
    "## Evaluemos de forma más fina el comportamiento de nuestro modelo"
   ]
  },
  {
   "cell_type": "markdown",
   "metadata": {},
   "source": [
    "<div style=\"background-color:#C5E0DC\">\n",
    "Los estimadores y las funciones de sklearn vienen cone el máximo de argumentos con valores por defecto que suelen ser las mejores opciones si no tenemos algun conocimiento particular de el problema. En este caso particular la funcion `estimator.score` ya viene con una de las métricas de `sklearn.metrics` que es la metrica `sklearn.metric.r2_score`\n",
    "</div>"
   ]
  },
  {
   "cell_type": "markdown",
   "metadata": {},
   "source": [
    "<div style=\"background-color:#77ee77\">\n",
    "El **score R2** de una regresión es una de las formas mas comunes de entender su poder predictivo.\n",
    "Este **mientras más cerca de 1 este, mejor es**\n",
    "\n",
    "</div>"
   ]
  },
  {
   "cell_type": "markdown",
   "metadata": {},
   "source": [
    "<div style=\"background-color:#77ee77\">\n",
    "Los valores que pueden tomar son de -infinito hasta 1. Un score negativo es malo, ya que \n",
    "esto indica que la regresión es peor que si simplemente eligieramos un valor fijo como prediccion para todos los puntos, la media.\n",
    "</div>"
   ]
  },
  {
   "cell_type": "code",
   "execution_count": 17,
   "metadata": {},
   "outputs": [
    {
     "data": {
      "text/plain": [
       "0.90736897385448578"
      ]
     },
     "execution_count": 17,
     "metadata": {},
     "output_type": "execute_result"
    }
   ],
   "source": [
    "# Veremos el score que genera nuestro modelo\n",
    "model.score(X_test,y_test)\n",
    "# entre mas se acerque a un mejor es, asi que tenemos un excelente score, \n",
    "# pero aun podemos mejorarlo asi sea un poco"
   ]
  },
  {
   "cell_type": "markdown",
   "metadata": {},
   "source": [
    "Un buen score R2 es importante para una regresión. Pero no lo es todo. De forma general los scores hay que complementarlos con visualizaciones de los datos ya que una métrica no logra siempre encodear todas las caracteristicas de una distribucion de probabilidades. Un ejemplo es el siguiente:"
   ]
  },
  {
   "cell_type": "code",
   "execution_count": null,
   "metadata": {
    "collapsed": true
   },
   "outputs": [],
   "source": []
  }
 ],
 "metadata": {
  "kernelspec": {
   "display_name": "Python 3",
   "language": "python",
   "name": "python3"
  },
  "language_info": {
   "codemirror_mode": {
    "name": "ipython",
    "version": 3
   },
   "file_extension": ".py",
   "mimetype": "text/x-python",
   "name": "python",
   "nbconvert_exporter": "python",
   "pygments_lexer": "ipython3",
   "version": "3.6.2"
  }
 },
 "nbformat": 4,
 "nbformat_minor": 2
}
