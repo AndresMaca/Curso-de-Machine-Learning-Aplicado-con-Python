{
 "cells": [
  {
   "cell_type": "markdown",
   "metadata": {},
   "source": [
    "# Curso de Machine Learning Aplicado con Python"
   ]
  },
  {
   "cell_type": "markdown",
   "metadata": {},
   "source": [
    "![Machine-Learning](assets/Machine-Learning.jpg)"
   ]
  },
  {
   "cell_type": "markdown",
   "metadata": {},
   "source": [
    "## Terminología de Machine Learning"
   ]
  },
  {
   "cell_type": "markdown",
   "metadata": {},
   "source": [
    "![terminologia](assets/terminologia.png)"
   ]
  },
  {
   "cell_type": "markdown",
   "metadata": {},
   "source": [
    "### Terminología\n",
    "\n",
    "**Datos tabulares** = Datos en dos dimensiones.\n",
    "\n",
    "**Líneas** = Ejemplos\n",
    "\n",
    "**Columna** = Feauture. Éstas son importantes porque nos van a ayudar a predecir cosas gracias a los modelos que usemos de Machine Learning.\n",
    "\n",
    "**Cantidad de columnas** = Dimensión de los datos\n",
    "\n",
    "**Output de un algoritmo de Machine Learning (ML)** = Modelo\n",
    "\n",
    "**Variable objetivo** = Target"
   ]
  },
  {
   "cell_type": "markdown",
   "metadata": {},
   "source": [
    "En nuestro ejemplo entendemos que las caracteristicas de cada pelicula estan en una columna y que la fila son las diferentes peliculas\n",
    "\n",
    "Y en el vector Target y  es la que queremos predecir que en este caso es el ingreso"
   ]
  },
  {
   "cell_type": "code",
   "execution_count": null,
   "metadata": {
    "collapsed": true
   },
   "outputs": [],
   "source": []
  }
 ],
 "metadata": {
  "kernelspec": {
   "display_name": "Python 3",
   "language": "python",
   "name": "python3"
  },
  "language_info": {
   "codemirror_mode": {
    "name": "ipython",
    "version": 3
   },
   "file_extension": ".py",
   "mimetype": "text/x-python",
   "name": "python",
   "nbconvert_exporter": "python",
   "pygments_lexer": "ipython3",
   "version": "3.6.2"
  }
 },
 "nbformat": 4,
 "nbformat_minor": 2
}
