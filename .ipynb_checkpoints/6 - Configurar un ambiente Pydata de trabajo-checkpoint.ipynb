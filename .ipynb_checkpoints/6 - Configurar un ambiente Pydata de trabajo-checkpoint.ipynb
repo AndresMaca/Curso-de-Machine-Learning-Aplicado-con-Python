{
 "cells": [
  {
   "cell_type": "markdown",
   "metadata": {},
   "source": [
    "# Curso de Machine Learning Aplicado con Python"
   ]
  },
  {
   "cell_type": "markdown",
   "metadata": {},
   "source": [
    "![Machine-Learning](assets/Machine-Learning.jpg)"
   ]
  },
  {
   "cell_type": "markdown",
   "metadata": {},
   "source": [
    "\n",
    "## Configurar un ambiente Pydata de trabajo\n",
    "\n",
    "* Scikit-learn es la **librería de Machine Learning estandar más popular** según estadisticas de Github.\n",
    "* Saber ocupar Scikit-learn es equivalente a saber hacer **Machine Learning con Python.**\n",
    "* Scikit-learn se apoya en una familia de librerías comunmente conocida como el **ambiente Pydata.**\n",
    "\n",
    "Para hacer machine learning de **forma profesional** es importante:\n",
    "\n",
    "* Contar con librerias:\n",
    "    * **cientificas** (numpy, scipy, statsmodel),\n",
    "    * **procesamiento de datos** (pandas, dask),\n",
    "    * **machine learning** (scikit-learn, keras),\n",
    "    * **visualizacion de datos** (matplotlib, bokeh, seaborn).\n",
    "* Contar con ambientes limpios y separados, que se puedan construir rapidamente y de forma reproducible.\n",
    "* Trabajar en un IDE adaptado a workflows de machine Learning\n",
    "\n",
    "## Instalar Docker\n",
    "\n",
    "* **Mac y Windows**\n",
    "\n",
    "Para estos dos sistemas operativos basta con ir a https://www.docker.com/ y descargar desde la sección \"Get Docker\" el GUI installer apropiado para tu sistema operativo.\n",
    "\n",
    "$*$ *Utilizando Windows 8, instalar un toolbox de Docker. Desde esta página web: \" https://docs.docker.com/toolbox/toolbox_install_windows/#step-3-verify-your-installation\" en la parte que dice Get Docker Toolbox for Windows, descargan el instalador. Luego siguen los pasos y les quedará instalado.*\n",
    "\n",
    "Para verificar la instalación basta con poner docker run hello-world y si sale este “Hello from Docker” es porque quedó bien instalado.**\n",
    "\n",
    "* **Ubuntu (arquitectura X_86_64)**\n",
    "\n",
    "Copia y pega -una por una- estas lineas en tu terminal.\n",
    "\n",
    "    sudo apt-get remove docker docker-engine docker.io\n",
    "    sudo apt-get update\n",
    "    sudo apt-get install linux-image-extra-$(uname -r) linux-image-extra-virtual\n",
    "\n",
    "    sudo apt-get install apt-transport-https ca-certificates curl software-properties-common\n",
    "    curl -fsSL https://download.docker.com/linux/ubuntu/gpg | sudo apt-key add -\n",
    "    sudo add-apt-repository \"deb [arch=amd64] https://download.docker.com/linux/ubuntu $(lsb_release -cs) stable\"\n",
    "\n",
    "    sudo apt-get update\n",
    "    sudo apt-get install docker-ce\n",
    "\n",
    "Para confirmar que docker quedo bien instalado en tu computador corre el comando de test siguiente, que te deberian printear un hola mundo en tu consola:\n",
    "\n",
    "    sudo docker run hello-world\n",
    "\n"
   ]
  },
  {
   "cell_type": "code",
   "execution_count": null,
   "metadata": {
    "collapsed": true
   },
   "outputs": [],
   "source": []
  }
 ],
 "metadata": {
  "kernelspec": {
   "display_name": "Python 3",
   "language": "python",
   "name": "python3"
  },
  "language_info": {
   "codemirror_mode": {
    "name": "ipython",
    "version": 3
   },
   "file_extension": ".py",
   "mimetype": "text/x-python",
   "name": "python",
   "nbconvert_exporter": "python",
   "pygments_lexer": "ipython3",
   "version": "3.6.2"
  }
 },
 "nbformat": 4,
 "nbformat_minor": 2
}
