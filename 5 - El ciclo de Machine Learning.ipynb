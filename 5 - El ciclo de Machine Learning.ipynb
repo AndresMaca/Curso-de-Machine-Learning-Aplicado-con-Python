{
 "cells": [
  {
   "cell_type": "markdown",
   "metadata": {},
   "source": [
    "# Curso de Machine Learning Aplicado con Python"
   ]
  },
  {
   "cell_type": "markdown",
   "metadata": {},
   "source": [
    "![Machine-Learning](assets/Machine-Learning.jpg)"
   ]
  },
  {
   "cell_type": "markdown",
   "metadata": {},
   "source": [
    "## El ciclo de Machine Learning"
   ]
  },
  {
   "cell_type": "markdown",
   "metadata": {},
   "source": [
    "![cicloML](assets/cicloML.png)"
   ]
  },
  {
   "cell_type": "markdown",
   "metadata": {},
   "source": [
    "Muchas veces pensamos que hacer **Machine Learning** corresponde solamente a implementar un algoritmo de cualquiera de las librerías y con ello ya existe la solución a un problema. Pero en realidad existe todo un ciclo de trabajo donde los algoritmos de **Machine Learning** son solo una etapa, sin embargo, las demás etapas también son muy importantes y toman su tiempo para lograr los resultados que esperamos.\n",
    "\n",
    "Hacer **Machine Learning** corresponde a trabajar en un ciclo, ir trabajando varias etapas e ir iterando.\n",
    "\n",
    "**Ciclo de Machine Learning**:\n",
    "\n",
    "* Definición del problema.\n",
    "* Preparación de los datos.\n",
    "* Representación de los datos.\n",
    "* Modelamiento / Algoritmos de ML.\n",
    "* Evaluación.\n",
    "\n",
    "Este no es el final del proceso, se debe iterar hasta que en alguna de las iteraciones salga la solución al problema.**(regresamos hasta el punto 2 para mejorar el modelo hasta que se satisfaga la necesidad).**\n",
    "\n",
    "* Producción (Fin del proceso).\n",
    "    \n",
    "    \n",
    "##### La navaja de Ockham o Principio de Parsimonia: La solución más simple casi siempre es la mejor(siempre buscar la solucion mas simple y poco a poco ir hacia lo mas complejo.)\n",
    "\n",
    "Es el metodo que utilizaremos tras cada iteracion."
   ]
  },
  {
   "cell_type": "markdown",
   "metadata": {},
   "source": [
    "### Reconociendo Scikit-Learn\n",
    "\n",
    "**scikit-learn.preprocesing** = ayuda en feature engineering\n",
    "**scikit-learn.linealmodels** = ayuda en los modelos\n",
    "**scikit-learn.modelselection** = ayuda en la evaluacion**"
   ]
  },
  {
   "cell_type": "code",
   "execution_count": null,
   "metadata": {
    "collapsed": true
   },
   "outputs": [],
   "source": []
  }
 ],
 "metadata": {
  "kernelspec": {
   "display_name": "Python 3",
   "language": "python",
   "name": "python3"
  },
  "language_info": {
   "codemirror_mode": {
    "name": "ipython",
    "version": 3
   },
   "file_extension": ".py",
   "mimetype": "text/x-python",
   "name": "python",
   "nbconvert_exporter": "python",
   "pygments_lexer": "ipython3",
   "version": "3.6.2"
  }
 },
 "nbformat": 4,
 "nbformat_minor": 2
}
