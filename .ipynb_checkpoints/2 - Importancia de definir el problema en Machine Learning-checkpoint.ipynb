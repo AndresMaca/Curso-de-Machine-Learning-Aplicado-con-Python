{
 "cells": [
  {
   "cell_type": "markdown",
   "metadata": {},
   "source": [
    "# Curso de Machine Learning Aplicado con Python"
   ]
  },
  {
   "cell_type": "markdown",
   "metadata": {},
   "source": [
    "![Machine-Learning](assets/Machine-Learning.jpg)"
   ]
  },
  {
   "cell_type": "markdown",
   "metadata": {},
   "source": [
    "## Importancia de definir el problema en Machine Learning"
   ]
  },
  {
   "cell_type": "markdown",
   "metadata": {},
   "source": [
    "**Errores comunes** que se ven cuando no se define bien el problema y se comienza a codear:\n",
    "\n",
    "- No hay problemas por resolver.\n",
    "- Existen soluciones más simples.\n",
    "- No se puede medir el impacto del modelo.\n",
    "- No se sabe si el problema ya ha sido resuelto antes.\n",
    "- El problema es imposible de resolver.\n",
    "\n",
    "**Preguntas clave** para reconocer el **tipo de aprendizaje** que se necesita:\n",
    "\n",
    "- ¿Qué beneficio se puede generar y para quién?\n",
    "- ¿Cuál de las siguientes funcionalidades sería más útil para lograr el objetivo?\n",
    "\n",
    "    1. Predecir alguna métrica (Aprendizaje supervisado)\n",
    "    2. Predecir una etiqueta (Aprendizaje supervisado)\n",
    "    3. Agrupar elementos similares.\n",
    "    4. Optimizar un proceso con prueba y error.\n",
    "\n",
    "**Preguntas clave** para aterrizar el **problema de aprendizaje supervisado**:\n",
    "\n",
    "- ¿De qué tipo es el valor que se quiere predecir?\n",
    "\n",
    "    1. Continuo\n",
    "    2. Discreto\n",
    "\n",
    "- ¿Cuál es la definición de éxito en una predicción?\n",
    "- ¿Con qué datos se contaría para hacer esa predicción?\n",
    "- ¿La pregunta que se está tratando de resolver pertenece a alguna disciplina en particular?\n",
    "- Considerando nuestra intuición en la disciplina ¿Los datos nos permiten predecir el objetivo?\n"
   ]
  },
  {
   "cell_type": "code",
   "execution_count": null,
   "metadata": {
    "collapsed": true
   },
   "outputs": [],
   "source": []
  }
 ],
 "metadata": {
  "kernelspec": {
   "display_name": "Python 3",
   "language": "python",
   "name": "python3"
  },
  "language_info": {
   "codemirror_mode": {
    "name": "ipython",
    "version": 3
   },
   "file_extension": ".py",
   "mimetype": "text/x-python",
   "name": "python",
   "nbconvert_exporter": "python",
   "pygments_lexer": "ipython3",
   "version": "3.6.2"
  }
 },
 "nbformat": 4,
 "nbformat_minor": 2
}
